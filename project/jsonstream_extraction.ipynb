{
 "cells": [
  {
   "cell_type": "code",
   "execution_count": 6,
   "metadata": {},
   "outputs": [
    {
     "name": "stderr",
     "output_type": "stream",
     "text": [
      "C:\\Users\\Arada\\Miniconda\\lib\\site-packages\\ipykernel_launcher.py:14: DeprecationWarning: generator 'KeyValueBSONInput.reads' raised StopIteration\n",
      "  \n"
     ]
    }
   ],
   "source": [
    "from bsonstream import KeyValueBSONInput\n",
    "import csv\n",
    "import bson \n",
    "import json\n",
    "from bson import ObjectId\n",
    "import numpy as np\n",
    "from string import punctuation\n",
    "\n",
    "def strip_punctuation(s):\n",
    "    return ''.join(c for c in s if c not in punctuation)\n",
    "\n",
    "with open('cpcd-gse70138.bson', 'rb') as f:\n",
    "    stream = KeyValueBSONInput(fh=f)\n",
    "    for dict_data in stream:\n",
    "        del dict_data['_id']\n",
    "        name = str(dict_data['batch'])+'_' +str(dict_data['pert_id'])+'_' +str(dict_data['pert_dose'])+'.json'\n",
    "        with open(name, 'w') as outfile:\n",
    "            outfile.write( json.dumps(dict_data))\n",
    "           "
   ]
  }
 ],
 "metadata": {
  "kernelspec": {
   "display_name": "Python 3",
   "language": "python",
   "name": "python3"
  },
  "language_info": {
   "codemirror_mode": {
    "name": "ipython",
    "version": 3
   },
   "file_extension": ".py",
   "mimetype": "text/x-python",
   "name": "python",
   "nbconvert_exporter": "python",
   "pygments_lexer": "ipython3",
   "version": "3.6.7"
  }
 },
 "nbformat": 4,
 "nbformat_minor": 2
}
