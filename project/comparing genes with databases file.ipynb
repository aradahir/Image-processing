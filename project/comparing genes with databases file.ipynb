{
 "cells": [
  {
   "cell_type": "code",
   "execution_count": null,
   "metadata": {},
   "outputs": [],
   "source": [
    "import json\n",
    "import pandas as pd\n",
    "pd.set_option('display.max_rows', 1000)\n",
    "\n",
    "#file contains list of interested genes type json: this can be changed\n",
    "filename_s = 'file\\extract\\CPC013_HCC515_6H_BRD-K05104363_10.0.json'\n",
    "\n",
    "with open(filename_s, \"rb\") as data_in_s:\n",
    "    data_s = json.load(data_in_s)\n",
    "\n",
    "df_s = pd.DataFrame(list(data_s.items()), columns = ['variable', 'value']) \n",
    "upgene= df_s['value'][df_s['variable']=='upGenes']\n",
    "dngene= df_s['value'][df_s['variable']=='dnGenes']\n",
    "my_list_compare = ['genes']\n",
    "\n",
    "\n",
    "for item_s in upgene:\n",
    "    my_set_s = set(item_s)\n",
    "    my_new_list_up = list(my_set_s)\n",
    "    for i in my_new_list_up:\n",
    "        my_list_compare.append(i)\n",
    "\n",
    "for item in dngene:\n",
    "    my_set = set(item)\n",
    "    my_new_list_dn = list(my_set)\n",
    "    for i in my_new_list_dn:\n",
    "        my_list_compare.append(i)\n",
    "    "
   ]
  },
  {
   "cell_type": "code",
   "execution_count": null,
   "metadata": {},
   "outputs": [],
   "source": [
    "from bsonstream import KeyValueBSONInput\n",
    "import csv\n",
    "import bson \n",
    "import json\n",
    "from bson import ObjectId\n",
    "import numpy as np\n",
    "from string import punctuation\n",
    "\n",
    "def strip_punctuation(s):\n",
    "    return ''.join(c for c in s if c not in punctuation)\n",
    "\n",
    "with open('file\\cpcd-gse70138.bson', 'rb') as f:\n",
    "    #name of .csv file\n",
    "    with open('name.csv', 'w') as outfile:\n",
    "        write = csv.writer(outfile)\n",
    "        write.writerow(my_list_compare)\n",
    "        stream = KeyValueBSONInput(fh=f)\n",
    "        for dict_data in stream:\n",
    "            del dict_data['_id']\n",
    "            #name of row in .csv\n",
    "            name = str(dict_data['batch'])+'_' +str(dict_data['pert_id'])+'_' +str(dict_data['pert_dose'])\n",
    "            #get rid of file that does not contian a list of genes\n",
    "            if dict_data.get('upGenes') != None:\n",
    "                output = np.zeros(len(my_list_compare), dtype=object);\n",
    "                output[0] = name\n",
    "                index = 1\n",
    "                #comparing interested up regulated gene set and file from .bson\n",
    "                for i in my_new_list_up:\n",
    "                    for j in dict_data.get('upGenes'):\n",
    "                        if i == j:\n",
    "                            output[index] = '1'\n",
    "                    index = index +1\n",
    "                #comparing interested up regulated gene set and file from .bson\n",
    "                for x in my_new_list_dn:\n",
    "                    for y in dict_data.get('dnGenes'):\n",
    "                        if x == y:\n",
    "                            output[index] = '-1'\n",
    "                    index = index +1\n",
    "                write.writerow(output)\n"
   ]
  }
 ],
 "metadata": {
  "kernelspec": {
   "display_name": "Python 3",
   "language": "python",
   "name": "python3"
  },
  "language_info": {
   "codemirror_mode": {
    "name": "ipython",
    "version": 3
   },
   "file_extension": ".py",
   "mimetype": "text/x-python",
   "name": "python",
   "nbconvert_exporter": "python",
   "pygments_lexer": "ipython3",
   "version": "3.6.7"
  }
 },
 "nbformat": 4,
 "nbformat_minor": 2
}
